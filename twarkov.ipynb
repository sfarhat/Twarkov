{
 "cells": [
  {
   "cell_type": "code",
   "execution_count": 49,
   "metadata": {
    "collapsed": true
   },
   "outputs": [],
   "source": [
    "import numpy as np\n",
    "from twitter_scraper import get_tweets\n",
    "from twitterscraper import query_tweets\n",
    "import re\n",
    "import datetime as dt\n",
    "import networkx as nx\n",
    "import matplotlib.pyplot as plt"
   ]
  },
  {
   "cell_type": "code",
   "execution_count": 50,
   "metadata": {},
   "outputs": [],
   "source": [
    "# person_of_interest = 'realDonaldTrump'\n",
    "# tweets_info = query_tweets('from:' + person_of_interest, begindate=dt.date(2018,4,11), enddate=dt.date.today())\n",
    "# #     # def query_tweets(query, limit=None, begindate=dt.date(2017,1,1), enddate=dt.date.today(), poolsize=20, lang=''):\n",
    "    \n",
    "# # tweets = []\n",
    "# # for tweet_info in tweets_info:\n",
    "# #     tweet = tweet_info.text\n",
    "# #     tweets.append(tweet)\n",
    "\n",
    "# # tweets = np.array(tweets)\n",
    "\n",
    "# # print(tweets)"
   ]
  },
  {
   "cell_type": "code",
   "execution_count": 237,
   "metadata": {},
   "outputs": [
    {
     "name": "stdout",
     "output_type": "stream",
     "text": [
      "Number of tweets: 21\n",
      "['NEWTWEET Welcome Prime Minister Abe!pic.twitter.com/538EYyfWDq'\n",
      " 'NEWTWEET States and Cities throughout our Country are being cheated and treated so badly by online retailers. Very unfair to traditional tax paying stores!'\n",
      " 'NEWTWEET Great to be with Secretary Mnuchin & former Governor Sununu in Derry, NH on #TaxDay to highlight the tremendous benefits of #TaxCuts for hard working American families.pic.twitter.com/cOxzqYoqqh'\n",
      " 'NEWTWEET WATCH LIVE: @IvankaTrump and @stevenmnuchin1 host tax event on Tax Day in New Hampshire. (Courtesy: WBZ) https://twitter.com/i/broadcasts/1OdKrZZwgBYKX\\xa0…'\n",
      " 'NEWTWEET ....Congress – House and Senate must quickly pass a legislative fix to ensure violent criminal aliens can be removed from our society. Keep America Safe!'\n",
      " 'NEWTWEET Today’s Court decision means that Congress must close loopholes that block the removal of dangerous criminal aliens, including aggravated felons. This is a public safety crisis that can only be fixed by....'\n",
      " 'NEWTWEET Rasmussen just came out at 51% Approval despite the Fake News Media. They were one of the three most accurate on Election Day. Just about the most inaccurate were CNN and ABC News/Washington Post, and they haven’t changed (get new pollsters). Much of the media is a Scam!'\n",
      " 'NEWTWEET Getting ready to meet Prime Minister Abe of Japan, a truly fine gentleman!'\n",
      " 'NEWTWEET Our Optimism Index reached its 16th consecutive month in the top 5% of 45 years of survey readings – and it was the 1st time in 35 yrs where fewest no. of #smallbiz owners told us that #taxes are their #1 problem. More here:  http://www.nfib.com/sboi\\xa0pic.twitter.com/AYv7TmPlkR'\n",
      " 'NEWTWEET Thanks to the historic TRUMP TAX CUTS, today marks the last time the American people will file taxes under a complicated & outdated tax system. Our Tax Cuts– the largest in American history– will save YOU money, increase opportunity & create more JOBS for American workers #TaxDay'\n",
      " 'NEWTWEET Starting next year, you will be able to file under the new tax law, which means MORE money in your pocket – all without the frustration and confusion of our current tax code. Out With the Old, In With the New. #TaxDay2018.pic.twitter.com/eMVAE6ORDc'\n",
      " 'NEWTWEET Syrian President Bashar al-Assad’s April 7 attack on innocent civilians violated international law, the Chemical Weapons Convention, and several U.N. Security Council Resolutions. He must be held accountable. On Friday, the U.S. and its allies responded. http://45.wh.gov/E2XPck\\xa0'\n",
      " 'NEWTWEET Out with the old, in with the new: tax cuts and reforms that look out for hardworking taxpayers  http://45.wh.gov/j89mu2\\xa0'\n",
      " \"NEWTWEET President Trump's tax cuts will generate greater economic opportunities for all.pic.twitter.com/kcTsLNN1Uu\"\n",
      " 'NEWTWEET So many people are seeing the benefits of the Tax Cut Bill. Everyone is talking, really nice to see!'\n",
      " 'NEWTWEET Looks like Jerry Brown and California are not looking for safety and security along their very porous Border. He cannot come to terms for the National Guard to patrol and protect the Border. The high crime rate will only get higher. Much wanted Wall in San Diego already started!'\n",
      " 'NEWTWEET I am in Florida and looking forward to my meeting with Prime Minister Abe of Japan. Working on Trade and Military Security.'\n",
      " 'NEWTWEET Employment is up, Taxes are DOWN. Enjoy!'\n",
      " 'NEWTWEET Crumbs are still coming. #MAGA http://www.timesfreepress.com/news/business/aroundregion/story/2018/apr/12/mckee-gives-1000-bonuses-all-employees/468194/\\xa0…'\n",
      " 'NEWTWEET Tomorrow is #TaxDay and the good news is this is the last year you will have to file using the old, broken code. Check out Chairman @RepKevinBrady’s op-ed in @USAToday  https://www.usatoday.com/story/opinion/2018/04/16/tax-code-tax-day-filing-cut-column/511721002/\\xa0…'\n",
      " 'NEWTWEET']\n"
     ]
    }
   ],
   "source": [
    "tweets_info = get_tweets(person_of_interest, pages = 1)\n",
    "tweets = []\n",
    "for tweet_info in list(tweets_info):\n",
    "    text = tweet_info['text']\n",
    "#     text = tweet_info.text #Figure out which one to use. It does not work consistently yet\n",
    "    # Add NEWTWEET to help recognize starting word of tweet for future processing\n",
    "    tweets.append(\"NEWTWEET \" + text)\n",
    "    \n",
    "tweets.append(\"NEWTWEET\") # Ensures that last word in last tweet is tied to end state\n",
    "    \n",
    "tweets = np.array(tweets)\n",
    "num_tweets = len(tweets)\n",
    "print(\"Number of tweets: \" + str(num_tweets))\n",
    "print(tweets)"
   ]
  },
  {
   "cell_type": "code",
   "execution_count": 239,
   "metadata": {},
   "outputs": [],
   "source": [
    "words = []\n",
    "for tweet in tweets:\n",
    "    words.extend(tweet.split(\" \"))\n",
    "    \n",
    "#edge case of URL attatched to end of sentence without space: ... American families.img.pic.twitter...\n",
    "cleaned_words = []\n",
    "for word in words:\n",
    "    if \".com\" not in word and \"www.\" not in word and \"http\" not in word and word != '':\n",
    "        cleaned_words.append(word)\n",
    "        \n",
    "words = cleaned_words\n",
    "cleaned_words_no_repeat = [words[0]] # could be repeated 'NEWTWEET' due to deleting URL's\n",
    "        \n",
    "for i in range(1, len(words)):\n",
    "    if not (words[i] == \"NEWTWEET\" and words[i] == words[i-1]):\n",
    "        cleaned_words_no_repeat.append(words[i])\n",
    "        \n",
    "words = cleaned_words_no_repeat\n",
    "words = np.array(words)\n",
    "# print(words)"
   ]
  },
  {
   "cell_type": "code",
   "execution_count": 240,
   "metadata": {},
   "outputs": [],
   "source": [
    "G = nx.DiGraph()\n",
    "# Initialize states with start and end states (assuming no word is 'S' or 'E')\n",
    "states = ['S', 'E']\n",
    "for word in words:\n",
    "    if word not in states and word != \"\" and word != \"NEWTWEET\":\n",
    "        states.append(word)\n",
    "G.add_nodes_from(states)\n",
    "# nx.draw(G, with_labels = True)\n",
    "# print(states)"
   ]
  },
  {
   "cell_type": "code",
   "execution_count": 241,
   "metadata": {},
   "outputs": [],
   "source": [
    "freq = {}\n",
    "edges = []\n",
    "\n",
    "# Edge case for first word in tweet not being connected to Start state\n",
    "\n",
    "for i in range(len(words) - 1):\n",
    "    if words[i] == \"NEWTWEET\":\n",
    "        edges.append(('S', words[i + 1], 1))\n",
    "        continue\n",
    "    elif words[i+1] == \"NEWTWEET\":\n",
    "        edges.append((words[i], 'E', 1))\n",
    "        continue\n",
    "    elif (words[i], words[i+1]) in freq:\n",
    "        freq[(words[i], words[i+1])] += 1\n",
    "    else:\n",
    "        freq[(words[i], words[i+1])] = 1\n",
    "        \n",
    "    if words[i].endswith(('.', '!', '?')):\n",
    "        edges.append((words[i], 'E', 1))\n",
    "        edges.append(('S', words[i + 1], 1))\n",
    "        \n",
    "edges.append(('E', 'S', 1))\n",
    "\n",
    "for edge in freq:\n",
    "    edges.append((edge[0], edge[1], freq[edge]))\n",
    "    \n",
    "G.add_weighted_edges_from(edges)\n",
    "# nx.draw(G, with_labels = True)\n",
    "# nx.draw(G)"
   ]
  },
  {
   "cell_type": "code",
   "execution_count": 242,
   "metadata": {},
   "outputs": [],
   "source": [
    "# print(list(G.successors('S')))\n",
    "# print(list(G.predecessors('E')))\n",
    "\n",
    "# print(list(G.predecessors('S')))\n",
    "# print(list(G.successors('E')))"
   ]
  },
  {
   "cell_type": "code",
   "execution_count": 243,
   "metadata": {},
   "outputs": [],
   "source": [
    "# Creates numpy adjacency matrix of states, where Starting node is row 0 and Ending node is row 1\n",
    "matrix = nx.to_numpy_matrix(G, nodelist = states)\n",
    "matrix = np.array(matrix).tolist()\n",
    "# print(matrix)\n",
    "# print(np.array(matrix))"
   ]
  },
  {
   "cell_type": "code",
   "execution_count": 244,
   "metadata": {},
   "outputs": [
    {
     "name": "stdout",
     "output_type": "stream",
     "text": [
      "True\n"
     ]
    }
   ],
   "source": [
    "# Sanity check to see if adjacency matrix reflects actual state of MC\n",
    "num = 0\n",
    "for i in range(len(matrix[0])):\n",
    "    num += matrix[1][i]\n",
    "print(num == len(list(G.successors('E')))) "
   ]
  },
  {
   "cell_type": "code",
   "execution_count": 245,
   "metadata": {},
   "outputs": [],
   "source": [
    "for i in range(len(matrix)):\n",
    "    if np.array(matrix[i]).sum(axis=0) != 0:\n",
    "        continue\n",
    "    else:\n",
    "        print(i, np.array(matrix[i]).sum(axis=0))\n",
    "        print('broken state: ' + states[i])\n",
    "        print(list(G.predecessors(states[i])))\n",
    "\n",
    "matrix = np.delete(matrix, len(matrix)-1, axis=1)\n",
    "matrix = np.delete(matrix, len(matrix)-1, axis=0)"
   ]
  },
  {
   "cell_type": "code",
   "execution_count": 246,
   "metadata": {},
   "outputs": [],
   "source": [
    "matrix = np.array(matrix)\n",
    "\n",
    "transition_mat = np.array(matrix)/np.array(matrix).sum(axis=1)[:,None]\n",
    "\n",
    "def get_next_state(i, transition_matrix):\n",
    "    return np.random.choice(transition_matrix.shape[1], 1, p=transition_matrix[i])[0]\n",
    "\n",
    "def perform_random_walk(s, e, transition_matrix):\n",
    "    curr_state = s\n",
    "    l = []\n",
    "    while curr_state != e:\n",
    "        curr_state = get_next_state(curr_state, transition_matrix)\n",
    "        if curr_state != s:\n",
    "            l.append(curr_state)\n",
    "    return np.array(l)\n",
    "\n",
    "def generate_sentence():\n",
    "    return ''.join([states[i] + ' ' for i in perform_random_walk(0, 1, transition_mat) if i != 1])"
   ]
  },
  {
   "cell_type": "code",
   "execution_count": 247,
   "metadata": {},
   "outputs": [
    {
     "name": "stdout",
     "output_type": "stream",
     "text": [
      "(Courtesy: WBZ) \n",
      "#MAGA \n",
      "Crumbs are being cheated and confusion of the old, broken code. Check out at 51% Approval despite the Border. \n",
      "Syrian President Bashar al-Assad’s April 7 attack on #TaxDay to file using the new: tax law, the last year you will generate greater economic opportunities for American \n",
      "Employment is the Border. The high crime rate will only get higher. Much wanted Wall in with Prime Minister Abe of Japan, a truly fine gentleman! \n"
     ]
    }
   ],
   "source": [
    "for i in range(0, 5):\n",
    "    tweet = generate_sentence()\n",
    "    if tweet.endswith('..'):\n",
    "        tweet += ' ' + generate(sentence)\n",
    "    print(tweet)"
   ]
  },
  {
   "cell_type": "code",
   "execution_count": null,
   "metadata": {},
   "outputs": [],
   "source": []
  }
 ],
 "metadata": {
  "kernelspec": {
   "display_name": "Python 3",
   "language": "python",
   "name": "python3"
  },
  "language_info": {
   "codemirror_mode": {
    "name": "ipython",
    "version": 3
   },
   "file_extension": ".py",
   "mimetype": "text/x-python",
   "name": "python",
   "nbconvert_exporter": "python",
   "pygments_lexer": "ipython3",
   "version": "3.6.4"
  }
 },
 "nbformat": 4,
 "nbformat_minor": 2
}
