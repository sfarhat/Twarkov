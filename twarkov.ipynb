{
 "cells": [
  {
   "cell_type": "code",
   "execution_count": 1,
   "metadata": {
    "collapsed": true
   },
   "outputs": [],
   "source": [
    "import numpy as np\n",
    "from twitter_scraper import get_tweets\n",
    "from twitterscraper import query_tweets\n",
    "import re\n",
    "import datetime as dt\n",
    "import networkx as nx\n",
    "import matplotlib.pyplot as plt"
   ]
  },
  {
   "cell_type": "code",
   "execution_count": 2,
   "metadata": {},
   "outputs": [],
   "source": [
    "person_of_interest = 'realDonaldTrump'\n",
    "tweets_info = query_tweets('from:' + person_of_interest, begindate=dt.date(2018,4,11), enddate=dt.date.today())\n",
    "#     # def query_tweets(query, limit=None, begindate=dt.date(2017,1,1), enddate=dt.date.today(), poolsize=20, lang=''):\n",
    "    \n",
    "# tweets = []\n",
    "# for tweet_info in tweets_info:\n",
    "#     tweet = tweet_info.text\n",
    "#     tweets.append(tweet)\n",
    "\n",
    "# tweets = np.array(tweets)\n",
    "\n",
    "# print(tweets)"
   ]
  },
  {
   "cell_type": "code",
   "execution_count": 3,
   "metadata": {},
   "outputs": [
    {
     "name": "stdout",
     "output_type": "stream",
     "text": [
      "Number of tweets: 36\n"
     ]
    }
   ],
   "source": [
    "# tweets_info = get_tweets(person_of_interest, pages = 10)\n",
    "tweets = []\n",
    "for tweet_info in list(tweets_info):\n",
    "#     text = tweet_info['text']\n",
    "    text = tweet_info.text #Figure out which one to use. It does not work consistently yet\n",
    "    # Add NEWTWEET to help recognize starting word of tweet for future processing\n",
    "    tweets.append(\"NEWTWEET \" + text)\n",
    "    \n",
    "tweets = np.array(tweets)\n",
    "num_tweets = len(tweets)\n",
    "print(\"Number of tweets: \" + str(num_tweets))\n",
    "# print(tweets)"
   ]
  },
  {
   "cell_type": "code",
   "execution_count": 4,
   "metadata": {},
   "outputs": [],
   "source": [
    "words = []\n",
    "for tweet in tweets:\n",
    "    words.extend(tweet.split(\" \"))\n",
    "    \n",
    "cleaned_words = []\n",
    "for word in words:\n",
    "    if \".com\" not in word and \"www.\" not in word and \"http\" not in word and word != '':\n",
    "        cleaned_words.append(word)\n",
    "        \n",
    "words = cleaned_words\n",
    "cleaned_words_no_repeat = [words[0]] # could be repeated 'NEWTWEET' due to deleting URL's\n",
    "        \n",
    "for i in range(1, len(words)):\n",
    "    if not (words[i] == \"NEWTWEET\" and words[i] == words[i-1]):\n",
    "        cleaned_words_no_repeat.append(words[i])\n",
    "        \n",
    "words = cleaned_words_no_repeat\n",
    "words = np.array(words)\n",
    "# print(words)"
   ]
  },
  {
   "cell_type": "code",
   "execution_count": 5,
   "metadata": {},
   "outputs": [],
   "source": [
    "G = nx.DiGraph()\n",
    "# Initialize states with start and end states (assuming no word is 'S' or 'E')\n",
    "states = ['S', 'E']\n",
    "for word in words:\n",
    "    if word not in states and word != \"\" and word != \"NEWTWEET\":\n",
    "        states.append(word)\n",
    "G.add_nodes_from(states)\n",
    "# nx.draw(G, with_labels = True)"
   ]
  },
  {
   "cell_type": "code",
   "execution_count": 6,
   "metadata": {},
   "outputs": [],
   "source": [
    "freq = {}\n",
    "edges = []\n",
    "\n",
    "# Edge case for first word in tweet not being connected to Start state\n",
    "\n",
    "for i in range(len(words) - 1):\n",
    "    if words[i] == \"NEWTWEET\":\n",
    "        edges.append(('S', words[i + 1], 1))\n",
    "        continue\n",
    "    elif words[i+1] == \"NEWTWEET\":\n",
    "        edges.append((words[i], 'E', 1))\n",
    "        continue\n",
    "    elif (words[i], words[i+1]) in freq:\n",
    "        freq[(words[i], words[i+1])] += 1\n",
    "    else:\n",
    "        freq[(words[i], words[i+1])] = 1\n",
    "        \n",
    "    if words[i].endswith(('.', '!', '?')):\n",
    "#         print(words[i], words[i+1])\n",
    "        edges.append((words[i], 'E', 1))\n",
    "        edges.append(('S', words[i + 1], 1))\n",
    "        # remove 'word. Word' so no edge is made between them?\n",
    "        \n",
    "edges.append(('E', 'S', 1))\n",
    "\n",
    "for edge in freq:\n",
    "    edges.append((edge[0], edge[1], freq[edge]))\n",
    "    \n",
    "G.add_weighted_edges_from(edges)\n",
    "# nx.draw(G, with_labels = True)\n",
    "# nx.draw(G)"
   ]
  },
  {
   "cell_type": "code",
   "execution_count": 7,
   "metadata": {},
   "outputs": [],
   "source": [
    "# print(list(G.successors('S')))\n",
    "# print(list(G.predecessors('E')))\n",
    "\n",
    "# print(list(G.predecessors('S')))\n",
    "# print(list(G.successors('E')))"
   ]
  },
  {
   "cell_type": "code",
   "execution_count": 8,
   "metadata": {},
   "outputs": [],
   "source": [
    "# Creates numpy adjacency matrix of states, where Starting node is row 0 and Ending node is row 1\n",
    "matrix = nx.to_numpy_matrix(G, nodelist = states)\n",
    "matrix = np.array(matrix).tolist() #DON'T DO THIS?\n",
    "# print(matrix)\n",
    "# print(np.array(matrix))"
   ]
  },
  {
   "cell_type": "code",
   "execution_count": 9,
   "metadata": {},
   "outputs": [
    {
     "name": "stdout",
     "output_type": "stream",
     "text": [
      "True\n"
     ]
    }
   ],
   "source": [
    "# Sanity check to see if adjacency matrix reflects actual state of MC\n",
    "num = 0\n",
    "for i in range(len(matrix[0])):\n",
    "    num += matrix[0][i]\n",
    "print(num == len(list(G.successors('S')))) "
   ]
  },
  {
   "cell_type": "code",
   "execution_count": 10,
   "metadata": {},
   "outputs": [
    {
     "name": "stdout",
     "output_type": "stream",
     "text": [
      "716\n"
     ]
    }
   ],
   "source": [
    "for i in range(len(matrix)):\n",
    "    if np.array(matrix[i]).sum(axis=0) != 0:\n",
    "        continue\n",
    "    else:\n",
    "        print(i)\n",
    "\n",
    "matrix = np.delete(matrix, len(matrix)-1, axis=1)\n",
    "matrix = np.delete(matrix, len(matrix)-1, axis=0)"
   ]
  },
  {
   "cell_type": "code",
   "execution_count": 11,
   "metadata": {},
   "outputs": [
    {
     "name": "stderr",
     "output_type": "stream",
     "text": [
      "/usr/local/lib/python3.6/site-packages/ipykernel_launcher.py:5: RuntimeWarning: invalid value encountered in true_divide\n",
      "  \"\"\"\n"
     ]
    }
   ],
   "source": [
    "matrix = np.array(matrix)\n",
    "\n",
    "#The fact that I can not use this is signaling to me that something is wrong.\n",
    "#Perhaps there are nodes that do not have a next to jump to. This would make NO sense?\n",
    "transition_mat = np.array(matrix)/np.array(matrix).sum(axis=1)[:,None]\n",
    "\n",
    "def get_next_state(i, transition_matrix):\n",
    "    return np.random.choice(transition_matrix.shape[1], 1, p=transition_matrix[i])[0]\n",
    "\n",
    "def perform_random_walk(s, e, transition_matrix):\n",
    "    curr_state = s\n",
    "    l = [curr_state]\n",
    "    while curr_state != e:\n",
    "        curr_state = get_next_state(curr_state, transition_matrix)\n",
    "        l.append(curr_state)\n",
    "    return np.array(l)\n",
    "\n",
    "def generate_sentence():\n",
    "#     print(''.join([edges[i][0] + ' ' for i in perform_random_walk(0, 1, transition_mat) if edges[i][0] is not 'S']))\n",
    "    print([edges[i][0] + ' ' for i in perform_random_walk(0, 1, transition_mat) if edges[i][0] is not 'S'])\n",
    "    print([edges[i][0] + ' ' for i in perform_random_walk(0, 1, transition_mat)])    "
   ]
  },
  {
   "cell_type": "code",
   "execution_count": 12,
   "metadata": {},
   "outputs": [
    {
     "name": "stdout",
     "output_type": "stream",
     "text": [
      "['Holocaust. ', 'LIED! ', 'LIED! ', 'increases ', 'as ', 'newspaper! ', 'who ', 'make ', 'this ', 'LIED! ', 'today. ', 'same ', 'point. ', 'With ', 'the ', 'of ', 'Would ', 'and ', 'disaster. ']\n",
      "['S ', 'my ', 'Administration, ', 'letter). ', 'thieves ', 'and ', 'We ', 'LIED! ', 'made ', 'up ', 'by ', 'this ', 'den ', 'as ', 'one ', 'the ', 'disaster. ']\n",
      "['it. ', 'They ', 'will ', 'lowlifes! ', 'him. ', 'newspaper! ', 'LIED! ', 'a ', 'and..... ', 'LIED! ', 'He ', 'leaked ', 'CLASSIFIED ', 'information, ', 'collusion, ', 'as ', 'one ', 'the ', 'disaster. ']\n",
      "['S ', 'Slimeball! ', 'LIED! ', 'are ', 'lowlifes! ', 'work ', 'believe! ', 'S ', 'had. ', 'S ', 'S ', 'today. ', 'S ', 'you ', 'cherish ', 'disaster. ']\n",
      "['cooperative, ', 'disaster. ']\n",
      "['S ', 'Ty ', 'the ', 'Cobb, ', 'my ', 'Special ', 'Counsel, ', 'disaster. ']\n",
      "['FBI. ', '“botch ', 'America, ', 'Just ', 'are ', 'doing ', 'newspaper! ', 'LIED! ', 'an ', 'end ', 'Cities. ', 'We ', 'already ', 'have ', 'TPP ', 'newspaper! ', 'handling ', 'the ', 'Crooked ', 'Hillary ', 'Would ', 'only ', 'join ', 'TPP ', 'the ', 'deal ', 'will ', 'were ', 'Where ', 'our ', 'den ', 'far! ', 'people ', '– ', 'disaster. ']\n",
      "['S ', 'Holocaust. ', 'LIED! ', 'S ', 'LIED! ', 'hard ', 'on ', 'trade ', 'collusion, ', 'S ', 'of ', 'believe! ', 'here ', 'where ', 'today! ', 'This ', 'event ', 'is ', 'dedicated ', 'to ', 'YOU: ', 'S ', 'the ', 'S ', 'Comey! ', 'S ', 'S ', 'thought ', 'LIED! ', 'job ', 'of ', 'Clintons!). ', 'have ', 'S ', 'offered ', 'letter). ', 'lowlifes! ', 'phony ', 'stories ', 'run. ', 'S ', 'FLAG! ', 'LIED! ', 'process. ', 'S ', 'and..... ', 'engaged ', 'and..... ', 'LIED! ', 'have ', 'and..... ', 'LIED! ', 'an ', 'end ', 'Cities. ', 'S ', 'all! ', 'Accomplished! ', 'that ', 'we ', 'LIED! ', 'really ', 'hard ', 'S ', 'and..... ', 'LIED! ', 'fully ', 'and..... ', 'LIED! ', 'are ', 'lowlifes! ', 'who ', 'biased ', 'Syria. ', 'believe! ', 'LIED! ', 'prosecuted. ', '@FoxNews ', 'S ', 'S ', 'S ', 'and ', 'We ', 'LIED! ', 'job ', 'of ', 'disaster. ']\n",
      "['Holocaust. ', 'LIED! ', 'LIED! ', 'prosecuted. ', 'He ', 'Just ', 'are ', 'soon ', 'if ', 'protected! ', 'Pres. ', 'Obama. ', 'Yom ', 'HaShoah ', 'we ', 'GREAT ', 'welfare ', 'LIED! ', 'to ', 'fire ', 'FAKE! ', 'Loyalty. ', 'guy. ', 'LIED! ', '#NeverAgain. ', 'and..... ', 'Pres. ', 'he ', 'disaster. ']\n",
      "['S ', 'S ', 'are ', 'S ', 'S ', 'newspaper! ', 'S ', 'thieves ', 'and ', 'S ', 'Lynch? ', 'S ', 'Hillary. ', 'with ', 'remember ', 'newspaper! ', 'LIED! ', 'give ', 'letter). ', 'LIED! ', 'an ', 'for ', 'your ', 'family, ', '@FoxNews ', 'S ', 'Administration ', 'HEARS ', 'YOUR ', 'VOICE ', 'LIED! ', 'process. ', 'S ', 'and..... ', 'S ', 'BACK. ', 'the ', 'are ', 'fighting ', 'Syria. ', 'believe! ', 'LIED! ', 'luck ', 'S ', 'Comey!! ', 'S ', 'far! ', 'S ', 'full ', 'jobs” ', 'AMERICAN ', 'believe! ', 'letter). ', 'were ', 'been ', 'Cities. ', 'better ', 'than ', 'S ', 'S ', 'newspaper! ', 'LIED! ', 'disaster. ', 'He ', 'run. ', 'event, ', 'the ', '@FoxNews ', 'you ', 'disaster. ']\n",
      "['collusion, ', 'Hillary. ', 'with ', 'to ', 'Mike ', 'Pompeo ', 'his ', 'Confirmation ', 'Hearing ', 'disaster. ']\n",
      "['S ', 'weak ', 'Tremendous ', 'disaster. ']\n",
      "['have ', '@seanhannity! ', 'United ', 'States, ', 'history. ', 'if ', 'Times, ', 'lowlifes! ', 'said ', 'and..... ', 'Hillary ', 'Would ', 'and ', 'disaster. ']\n",
      "['S ', 'LEAKER ', 'S ', 'Pres. ', '& ', 'issued ', 'S ', 'Obama. ', 'S ', 'letter). ', 'remember ', 'Cities. ', 'issued ', 'LIAR. ', 'disaster. ']\n",
      "['lies. ', 'newspaper! ', 'Jews ', 'FLAG! ', 'LIED! ', 'Hillary. ', 'Mueller ', 'Cities. ', 'prosecuted. ', 'He ', 'lied ', 'lowlifes! ', 'work ', 'believe! ', 'LIED! ', 'place. ', 'all! ', '“botch ', 'Accomplished! ', 'jobs” ', 'the ', 'Failing ', 'information: ', 'the ', 'Border ', 'It ', 'thing ', 'disaster. ']\n",
      "['S ', 'it. ', 'S ', 'protected! ', 'S ', 'years! ', 'S ', 'BACK. ', 'S ', 'pride. ', 'S ', 'back! ', 'disaster. ']\n",
      "['Jerry ', 'LIED! ', 'run. ', 'You ', 'newspaper! ', 'Pompeo ', 'his ', 'Confirmation ', 'Hearing ', 'disaster. ']\n",
      "['S ', 'my ', 'Administration, ', 'letter). ', 'S ', 'and..... ', 'Pres. ', 'him. ', 'S ', 'newspaper! ', 'S ', '- ', 'believe! ', 'SPIRIT ', 'newspaper! ', 'Pompeo ', 'his ', 'Confirmation ', 'Hearing ', 'disaster. ']\n",
      "['have ', '@seanhannity! ', 'disaster. ']\n",
      "['S ', 'have ', 'TPP ', 'Cities. ', 'S ', 'all! ', 'Accomplished! ', 'that ', 'we ', 'LIED! ', 'S ', 'place. ', 'S ', 'all! ', 'S ', 'ISIS. ', 'great ', 'Cities. ', 'a ', 'letter). ', 'lowlifes! ', 'should ', 'Cities. ', 'issued ', 'is ', 'Pres. ', 'Comey!! ', 'disaster. ']\n",
      "['collusion, ', 'New ', 'York ', 'history. ', 'if ', 'Times, ', 'lowlifes! ', 'said ', 'and..... ', 'Pres. ', 'he ', 'disaster. ']\n",
      "['S ', 'S ', 'lies. ', 'newspaper! ', 'S ', 'Yom ', 'HaShoah ', 'we ', 'GREAT ', 'remember ', 'It ', 'was ', 'disaster. ']\n",
      "['the ', 'him. ', 'the ', 'and..... ', 'OATH. ', 'and..... ', 'disaster. ']\n",
      "['S ', 'weak ', 'Tremendous ', 'Syria. ', 'S ', 'S ', 'it! ', 'disaster. ']\n",
      "['cooperative, ', 'disaster. ']\n",
      "['S ', '@seanhannity! ', 'Wall ', 'lowlifes! ', 'TPP ', 'Cities. ', 'deals ', 'disaster. ']\n",
      "['FBI. ', 'His ', 'newspaper! ', 'thieves ', 'and ', 'We ', 'LIED! ', 'process. ', 'believe! ', 'SPIRIT ', 'newspaper! ', 'board. ', 'are ', 'the ', 'run. ', 'San ', 'Diego, ', 'where ', 'Cities. ', 'Border. ', 'McCabe ', 'you ', 'disaster. ']\n",
      "['S ', 'MADE ', 'IN ', '....untruthful ', 'Obama. ', 'S ', 'S ', 'newspaper! ', 'slime ', 'LIED! ', 'S ', 'S ', 'newspaper! ', 'S ', 'prosecuted. ', 'S ', 'Comey! ', 'OATH. ', 'America’s ', 'greatest ', 'treasure ', 'S ', 'soon ', 'information: ', 'treasure ', 'Clintons!). ', 'race? ', 'is ', 'believe! ', 'our ', 'factories, ', 'S ', 'us ', 'and..... ', 'were ', 'Where ', 'our ', 'den ', 'Obama. ', 'slaughtered ', 'in ', 'the ', 'Comey!! ', 'disaster. ']\n",
      "['it. ', 'They ', 'will ', 'thought ', 'LIED! ', 'an ', 'at ', 'disaster. ']\n",
      "['S ', 'FBI. ', 'FBI. ', 'S ', 'S ', 'LIAR. ', 'S ', 'States, ', 'history. ', 'Accomplished! ', 'jobs” ', 'AMERICAN ', 'believe! ', 'thing ', 'disaster. ']\n",
      "['worst ', 'full ', 'jobs” ', 'close! ', 'den ', 'in ', 'lowlifes! ', 'him. ', 'is ', 'our ', 'treasure ', 'Clintons!). ', 'James ', 'lowlifes! ', 'said ', 'and..... ', 'were ', 'Obama. ', 'Cities. ', 'disaster. ']\n",
      "['S ', 'him. ', 'disaster. ']\n",
      "['all! ', 'lies. ', 'newspaper! ', 'past. ', 'for ', 'which ', 'race? ', 'In ', 'any ', 'run. ', 'San ', 'Diego, ', 'where ', 'today! ', 'This ', 'event ', 'is ', 'dedicated ', 'to ', 'YOU: ', 'AMERICAN ', 'I ', 'have ', 'Syria. ', 'a ', 'weak ', 'Tremendous ', 'Syria. ', 'OATH. ', 'words: ', 'disaster. ']\n",
      "['S ', 'If ', 'I ', 'den ', 'in ', 'S ', 'LIED! ', 'He ', 'leaked ', 'CLASSIFIED ', 'information, ', 'collusion, ', 'S ', 'jobs, ', 'and ', 'back ', 'those ', 'four ', 'beautiful ', 'and..... ', 'LIED! ', 'be ', 'collusion, ', 'New ', 'York ', 'history. ', 'soon ', 'information: ', 'treasure ', 'far! ', 'S ', 'S ', 'disaster. ']\n",
      "['surrounding ', 'it, ', 'will ', 'were ', 'Obama. ', 'Cities. ', 'BAD! ', 'Syria. ', 'it. ', 'newspaper! ', 'the ', 'Cities. ', 'disaster. ']\n",
      "['S ', 'the ', 'him. ', 'taken. ', 'S ', 'far! ', 'S ', 'full ', 'jobs” ', 'of ', 'S ', '“botch ', 'Accomplished! ', 'S ', '“botch ', 'America, ', 'Just ', 'are ', 'S ', 'of ', 'S ', 'jobs, ', 'and ', 'in ', 'with ', 'LIED! ', 'I ', 'Cities. ', 'all ', 'the ', 'American ', 'S ', 'S ', 'not ', 'so ', 'jobs” ', 'AMERICAN ', 'believe! ', 'thing ', 'disaster. ']\n",
      "['all! ', 'Never ', 'lowlifes! ', 'process. ', 'taken. ', 'and..... ', 'LIED! ', 'prosecuted. ', 'He ', 'who ', 'has ', 'hit ', 'your ', 'night. ', 'Military. ', 'newspaper! ', 'this. ', 'lowlifes! ', 'and..... ', 'Hillary ', 'close! ', 'night. ', 'Military. ', 'newspaper! ', 'is ', 'Thank ', 'you ', 'disaster. ']\n",
      "['S ', 'S ', 'LIED! ', 'S ', 'LIED! ', 'an ', 'at ', 'Country! ', 'S ', '“botch ', 'America, ', 'Just ', 'are ', 'fighting ', 'Syria. ', 'believe! ', 'SPIRIT ', 'newspaper! ', 'S ', 'Would ', 'and ', 'S ', 'are ', 'S ', 'letter). ', 'lowlifes! ', 'S ', 'S ', '18th. ', 'S ', 'information: ', 'the ', 'Border ', 'It ', 'Wall ', 'and ', 'disaster. ']\n",
      "['today! ', 'run. ', 'McCabe ', 'report ', '- ', 'which ', 'is ', 'lowlifes! ', 'P.M. ', '@FoxNews ', 'very ', 'Could ', 'to ', 'letter). ', 'tonight ', 'LIED! ', 'Robert ', 'den ', 'LIED! ', 'job ', 'of ', 'Clintons!). ', 'have ', '“botch ', 'America, ', 'Just ', 'are ', 'doing ', 'newspaper! ', 'probe. ', 'job. ', 'Slimeball! ', 'LIED! ', 'are ', 'disaster. ']\n",
      "['S ', 'Syria. ', 'a ', 'weak ', 'Tremendous ', 'Syria. ', 'OATH. ', 'six ', 'million ', 'newspaper! ', 'S ', 'Guard ', 'to ', 'Cities. ', 'in ', 'Could ', 'soon ', 'or ', 'S ', 'Comey! ', 'S ', 'Administration ', 'HEARS ', 'YOUR ', 'VOICE ', 'LIED! ', 'process. ', 'S ', 'and..... ', 'LIED! ', 'America?” ', 'S ', 'Border. ', 'and..... ', 'story. ', 'S ', 'Cities. ', 'show ', 'S ', 'S ', 'LIED! ', 'hard ', 'on ', 'trade ', 'collusion, ', 'S ', 'past. ', 'It ', 'Wall ', 'and ', 'disaster. ']\n",
      "['it. ', 'thought ', 'LIED! ', 'on ', '@seanhannity! ', '9:00 ', 'P.M. ', 'on ', 'and..... ', 'LIED! ', 'hard ', 'on ', 'trade ', 'collusion, ', 'Hillary. ', 'Mueller ', 'Cities. ', 'prosecuted. ', 'hardworking ', 'Americans ', 'who ', 'make ', 'this ', 'LIED! ', 'the ', 'disaster. ']\n",
      "['S ', 'S ', 'States, ', 'history. ', 'Accomplished! ', 'jobs” ', 'the ', 'Failing ', 'information: ', 'collusion, ', 'nations ', 'if ', 'as ', 'S ', 'S ', 'disaster. ']\n",
      "['weak ', 'Tremendous ', 'Syria. ', 'a ', 'disaster. ']\n",
      "['S ', 'Holocaust. ', 'LIED! ', 'S ', 'LIED! ', 'hard ', 'your ', 'country, ', 'if ', 'S ', 'S ', 'newspaper! ', 'the ', 'Cities. ', 'make ', 'disaster. ']\n",
      "['lowlifes! ', 'each ', 'passing ', 'year, ', 'our ', 'duty ', 'disaster. ']\n",
      "['S ', '@seanhannity! ', 'S ', 'disaster. ']\n",
      "['collusion, ', 'in ', 'newspaper! ', 'the ', 'ISIS. ', 'great ', 'Cities. ', 'Syria. ', 'disaster. ']\n",
      "['S ', 'Slimeball! ', 'LIED! ', 'S ', 'and..... ', 'Comey ', 'LIED! ', 'job ', 'of ', 'disaster. ']\n",
      "['all! ', 'of ', 'lowlifes! ', 'historically ', 'cooperative, ', 'disaster. ']\n",
      "['S ', 'was, ', 'collusion, ', 'eleven ', 'better ', 'than ', 'S ', 'working ', 'to ', 'Cities. ', 'S ', 'S ', 'newspaper! ', 'we ', 'pledge ', 'Good ', 'newspaper! ', 'LIED! ', 'disaster. ', 'He ', 'run. ', 'this. ', 'OATH. ', 'terrible ', 'Director ', 'FLAG! ', 'S ', 'Cities. ', 'S ', 'S ', 'FLAG! ', 'Obama. ', 'S ', 'S ', 'newspaper! ', 'S ', 'past. ', 'S ', 'LIED! ', 'the ', 'OATH. ', 'in ', 'disaster. ']\n"
     ]
    }
   ],
   "source": [
    "n = 25\n",
    "for i in range(n):\n",
    "    generate_sentence()"
   ]
  },
  {
   "cell_type": "code",
   "execution_count": null,
   "metadata": {},
   "outputs": [],
   "source": []
  }
 ],
 "metadata": {
  "kernelspec": {
   "display_name": "Python 3",
   "language": "python",
   "name": "python3"
  },
  "language_info": {
   "codemirror_mode": {
    "name": "ipython",
    "version": 3
   },
   "file_extension": ".py",
   "mimetype": "text/x-python",
   "name": "python",
   "nbconvert_exporter": "python",
   "pygments_lexer": "ipython3",
   "version": "3.6.5"
  }
 },
 "nbformat": 4,
 "nbformat_minor": 2
}
